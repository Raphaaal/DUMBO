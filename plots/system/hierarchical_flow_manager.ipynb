{
 "cells": [
  {
   "cell_type": "markdown",
   "id": "1c0381c4",
   "metadata": {},
   "source": [
    "Run with the following conda environment: `../../conda_envs/training_env`"
   ]
  },
  {
   "cell_type": "code",
   "execution_count": null,
   "id": "efa6f653-733f-4de0-b61d-9f8a8d1288db",
   "metadata": {},
   "outputs": [],
   "source": [
    "import matplotlib.pyplot as plt\n",
    "import pandas as pd"
   ]
  },
  {
   "cell_type": "code",
   "execution_count": null,
   "id": "0e72d54b-d34e-497f-aa9f-e42e0274788d",
   "metadata": {},
   "outputs": [],
   "source": [
    "plt.rc('font', size=16)\n",
    "plt.rcParams['legend.fontsize'] = 14\n",
    "plt.rcParams['legend.title_fontsize'] = 14\n",
    "plt.rc('pdf', fonttype=42)"
   ]
  },
  {
   "cell_type": "code",
   "execution_count": null,
   "id": "c3c25ea4-8018-4c9c-956c-22deab155e93",
   "metadata": {},
   "outputs": [],
   "source": [
    "n_pk = 5\n",
    "\n",
    "hierarchical_pkc_elephants = {\n",
    "  \"pkc_eviction\": [5, 1, 2, 3, 4],\n",
    "  \"n\": [7093, 1793, 153, 82, 43],\n",
    "}\n",
    "hierarchical_pkc_elephants = pd.DataFrame.from_dict(hierarchical_pkc_elephants)\n",
    "\n",
    "std_pkcache_elephants = {\n",
    "    \"pkc_eviction\": [5, 2, 3, 4, 1],\n",
    "    \"n\": [6505, 834, 800, 581, 444],\n",
    "}\n",
    "std_pkcache_elephants = pd.DataFrame.from_dict(std_pkcache_elephants)"
   ]
  },
  {
   "cell_type": "code",
   "execution_count": null,
   "id": "dc54fbd6-5311-47e5-ba5d-934e587f231f",
   "metadata": {},
   "outputs": [],
   "source": [
    "fig, ax = plt.subplots(1,1, figsize=(6,3.1))\n",
    "\n",
    "ax.bar(\n",
    "    hierarchical_pkc_elephants[hierarchical_pkc_elephants[\"pkc_eviction\"] != 5][\"pkc_eviction\"] + 0.15,\n",
    "    hierarchical_pkc_elephants[hierarchical_pkc_elephants[\"pkc_eviction\"] != 5][\"n\"] / hierarchical_pkc_elephants[\"n\"].sum(),\n",
    "    color=\"green\",\n",
    "    width=0.3,\n",
    "    label=\"Hierarchical Flow manager\" \n",
    ")\n",
    "\n",
    "ax.bar(\n",
    "    std_pkcache_elephants[std_pkcache_elephants[\"pkc_eviction\"] != 5][\"pkc_eviction\"] - 0.15,\n",
    "    std_pkcache_elephants[std_pkcache_elephants[\"pkc_eviction\"] != 5][\"n\"] / std_pkcache_elephants[\"n\"].sum(),\n",
    "    color=\"red\",\n",
    "    hatch=\"/\",\n",
    "    alpha=.99,\n",
    "    width=0.3,\n",
    "    label=\"Baseline Flow manager\" \n",
    ")\n",
    "\n",
    "ax.set_xlabel(\"# packets collected at eviction\")\n",
    "ax.set_ylabel(\"Fraction of Elephants\")\n",
    "ax.set_xticks(range(1, n_pk))\n",
    "ax.legend(frameon=False)\n",
    "\n",
    "plt.tight_layout()\n",
    "\n",
    "plt.savefig(f'./out/hierarchical_fm.pdf', format='pdf', dpi=1200, bbox_inches=\"tight\")\n",
    "plt.show()"
   ]
  }
 ],
 "metadata": {
  "kernelspec": {
   "display_name": "Python 3 (ipykernel)",
   "language": "python",
   "name": "python3"
  },
  "language_info": {
   "codemirror_mode": {
    "name": "ipython",
    "version": 3
   },
   "file_extension": ".py",
   "mimetype": "text/x-python",
   "name": "python",
   "nbconvert_exporter": "python",
   "pygments_lexer": "ipython3",
   "version": "3.9.18"
  }
 },
 "nbformat": 4,
 "nbformat_minor": 5
}
