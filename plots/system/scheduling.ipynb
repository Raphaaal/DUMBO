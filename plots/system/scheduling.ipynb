{
 "cells": [
  {
   "cell_type": "markdown",
   "id": "340629d4",
   "metadata": {},
   "source": [
    "Run with the following conda environment: `../../conda_envs/training_env`"
   ]
  },
  {
   "cell_type": "code",
   "execution_count": null,
   "id": "a058c8e8-cff0-4720-a7cd-cf65d94edceb",
   "metadata": {},
   "outputs": [],
   "source": [
    "import pandas as pd\n",
    "import matplotlib.pyplot as plt\n",
    "import matplotlib.pylab as pylab\n",
    "from matplotlib.gridspec import GridSpec "
   ]
  },
  {
   "cell_type": "code",
   "execution_count": null,
   "id": "df076ed9",
   "metadata": {},
   "outputs": [],
   "source": [
    "results_folder = \"../../results/simu_output/scheduling/\""
   ]
  },
  {
   "cell_type": "code",
   "execution_count": null,
   "id": "216e13c9-e9f4-43d8-89a1-6d3c21d4d55a",
   "metadata": {},
   "outputs": [],
   "source": [
    "params = {\n",
    "    'legend.fontsize': 14,\n",
    "    'legend.title_fontsize': 16,\n",
    "    'axes.labelsize': 18,\n",
    "    'axes.titlesize': 22,\n",
    "    'xtick.labelsize': 14,\n",
    "    'ytick.labelsize': 14,\n",
    "    'figure.titlesize': 25,\n",
    "}\n",
    "plt.rc('font', size=16)\n",
    "plt.rc('pdf', fonttype=42)\n",
    "pylab.rcParams.update(params)"
   ]
  },
  {
   "cell_type": "code",
   "execution_count": null,
   "id": "e9d70275",
   "metadata": {},
   "outputs": [],
   "source": [
    "coda_name = 'DUMBO'"
   ]
  },
  {
   "cell_type": "code",
   "execution_count": null,
   "id": "a6ee9530",
   "metadata": {},
   "outputs": [],
   "source": [
    "traces = [\"caida\", \"mawi\", \"uni\"]\n",
    "models = [\n",
    "    \"fifo\",\n",
    "    \"pheavy\",     \n",
    "    \"coda\", \n",
    "    \"phost\",\n",
    "    \"pfabric\", \n",
    "]\n",
    "nflows = [\n",
    "    \"10K\", \n",
    "    \"100K\",\n",
    "    \"1M\",\n",
    "]\n",
    "\n",
    "results = {}\n",
    "for t in traces:\n",
    "    results[t] = {}\n",
    "    for m in models:\n",
    "        results[t][m] = {}\n",
    "        for n in nflows:\n",
    "            try:\n",
    "                df = pd.read_csv(f\"{results_folder}/result_{m}_{t}_{n}.txt\", names=[\"load\", \"avg_slowdown\", \"tmp1\", \"tmp2\"], sep=\" \")\n",
    "                df = df[[\"load\", \"avg_slowdown\"]]\n",
    "            except FileNotFoundError:\n",
    "                df = pd.DataFrame(data={\n",
    "                    \"load\": [0.1, 0.2, 0.3, 0.4, 0.5, 0.6, 0.7, 0.8, 0.9],\n",
    "                    \"avg_slowdown\": [0., 0., 0., 0., 0., 0., 0., 0., 0.],\n",
    "                })\n",
    "            data = df.to_dict(orient=\"tight\")[\"data\"]\n",
    "            results[t][m][n] = {\n",
    "                i[0]: i[1] \n",
    "                for i\n",
    "                in data\n",
    "            }"
   ]
  },
  {
   "cell_type": "code",
   "execution_count": null,
   "id": "b6c0e465",
   "metadata": {},
   "outputs": [],
   "source": [
    "fig = plt.figure(figsize=(6,4.5))\n",
    "gs = GridSpec(2, 1, height_ratios=[1, 1], hspace=0.04)\n",
    "ax_load1 = fig.add_subplot(gs[0, 0])\n",
    "ax_load2 = fig.add_subplot(gs[1, 0], sharex=ax_load1)\n",
    "\n",
    "palette = {\n",
    "    \"coda\": \"tab:green\",\n",
    "    \"pfabric\" : \"tab:purple\",\n",
    "    \"fastpass\": \"tab:blue\",\n",
    "    \"pheavy\": \"tab:red\", \n",
    "    \"fifo\": \"tab:blue\",    \n",
    "    \"phost\": \"tab:orange\",  \n",
    "}\n",
    "HATCHES = {\n",
    "    \"coda\": None,\n",
    "    \"pfabric\" : \"--\",\n",
    "    \"fastpass\": \"\\\\\",\n",
    "    \"pheavy\": \"xx\",\n",
    "    \"fifo\": \"\\\\\\\\\",    \n",
    "    \"phost\": \"/\",  \n",
    "}\n",
    "\n",
    "nflows = \"1M\"\n",
    "\n",
    "bar_width = 0.15\n",
    "\n",
    "load1 = 0.5\n",
    "for i, t in enumerate(traces):\n",
    "    for j, m in enumerate(models):\n",
    "        x=i+j*bar_width-bar_width*2\n",
    "        ax_load1.bar(x=x, height=results[t][m][nflows][load1], label=m, width=bar_width, color=palette[m], hatch=HATCHES[m], edgecolor=\"black\")\n",
    "\n",
    "ax_load1.set_yticks([1, 2, 3, 4])\n",
    "ax_load1.set_xticks([])\n",
    "ax_load1.text(0.98, 0.85, f'load = {load1}', color='black', size=14, bbox=dict(facecolor='white', edgecolor='black', boxstyle='round'), horizontalalignment='right', transform=ax_load1.transAxes)\n",
    "ax_load1.set_axisbelow(True)\n",
    "\n",
    "load2 = 0.8\n",
    "handles_baselines, labels_baselines = [], []\n",
    "for i, t in enumerate(traces):\n",
    "    for j, m in enumerate(models):\n",
    "        x=i+j*bar_width-bar_width*2\n",
    "        ax_load2.bar(x=x, height=results[t][m][nflows][load2], label=m, width=bar_width, color=palette[m], hatch=HATCHES[m], edgecolor=\"black\")\n",
    "        if i == 2:\n",
    "            handles_baselines, labels_baselines = plt.gca().get_legend_handles_labels()\n",
    "            order = [0, 3, 4]\n",
    "\n",
    "ax_load2.set_yticks([1, 3, 5, 7])\n",
    "ax_load2.text(0.98, 0.85, f'load = {load2}', color='black', size=14, bbox=dict(facecolor='white', edgecolor='black', boxstyle='round'), horizontalalignment='right', transform=ax_load2.transAxes)\n",
    "ax_load2.set_axisbelow(True)\n",
    "\n",
    "handles, labels = plt.gca().get_legend_handles_labels()\n",
    "order = [1, 2]\n",
    "order_baselines = [0, 3, 4]\n",
    "ax_load1.legend(\n",
    "    [handles[i] for i in order] + [handles_baselines[i] for i in order_baselines], \n",
    "    [labels[i].replace(\"coda\", f\"(w/ hints) {coda_name}\").replace(\"pheavy\", \"(w/ hints) pHeavy 5pk\") for i in order] + [labels_baselines[i].replace(\"fifo\", \"FIFO\").replace(\"phost\", \"pHost\").replace(\"pfabric\", \"pFabric\") for i in order_baselines], \n",
    "    frameon=False, ncol=3, loc=\"lower center\", bbox_to_anchor=(0.5, 0.99), \n",
    "    labelspacing=0.3, handletextpad=0.6, borderaxespad=.0, columnspacing=1.0\n",
    ")\n",
    "\n",
    "ax_load2.set_xticks([i for i in range(len(traces))], [t.upper() for t in traces])\n",
    "\n",
    "ax_load1.tick_params(axis='x', which='both', bottom=False, labelbottom=False)\n",
    "\n",
    "fig.text(0.03, 0.5, 'Normalized FCT', va='center', ha='center', rotation='vertical', fontsize=plt.rcParams['axes.labelsize'])\n",
    "\n",
    "plt.subplots_adjust(left=0.09, right=0.99, bottom=0.09, top=0.88)\n",
    "plt.savefig(f'out/scheduling_bars.pdf', format='pdf', dpi=1200)\n",
    "plt.show()"
   ]
  }
 ],
 "metadata": {
  "kernelspec": {
   "display_name": "Python 3 (ipykernel)",
   "language": "python",
   "name": "python3"
  },
  "language_info": {
   "codemirror_mode": {
    "name": "ipython",
    "version": 3
   },
   "file_extension": ".py",
   "mimetype": "text/x-python",
   "name": "python",
   "nbconvert_exporter": "python",
   "pygments_lexer": "ipython3",
   "version": "3.9.18"
  }
 },
 "nbformat": 4,
 "nbformat_minor": 5
}
