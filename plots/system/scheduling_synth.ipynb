{
 "cells": [
  {
   "cell_type": "markdown",
   "id": "7559ffe2",
   "metadata": {},
   "source": [
    "Run with the following conda environment: `../../conda_envs/training_env`"
   ]
  },
  {
   "cell_type": "code",
   "execution_count": null,
   "id": "a058c8e8-cff0-4720-a7cd-cf65d94edceb",
   "metadata": {},
   "outputs": [],
   "source": [
    "import pandas as pd\n",
    "import matplotlib.pyplot as plt\n",
    "import matplotlib.lines as mlines\n",
    "from matplotlib import pyplot\n",
    "\n",
    "from os import listdir"
   ]
  },
  {
   "cell_type": "code",
   "execution_count": null,
   "id": "df076ed9",
   "metadata": {},
   "outputs": [],
   "source": [
    "results_folder = \"../../results/simu_output/scheduling/synth/\"\n",
    "baseline_folder = \"../../results/simu_output/scheduling/\""
   ]
  },
  {
   "cell_type": "code",
   "execution_count": null,
   "id": "216e13c9-e9f4-43d8-89a1-6d3c21d4d55a",
   "metadata": {},
   "outputs": [],
   "source": [
    "plt.rc('font', size=16)\n",
    "plt.rcParams['legend.fontsize'] = 14\n",
    "plt.rcParams['legend.title_fontsize'] = 14\n",
    "plt.rc('pdf', fonttype=42)"
   ]
  },
  {
   "cell_type": "code",
   "execution_count": null,
   "id": "ef8c4688",
   "metadata": {},
   "outputs": [],
   "source": [
    "coda_name = 'DUMBO'\n",
    "simus = listdir(results_folder)"
   ]
  },
  {
   "cell_type": "code",
   "execution_count": null,
   "id": "a6ee9530",
   "metadata": {},
   "outputs": [],
   "source": [
    "results = []\n",
    "for s in simus:\n",
    "    s_list = s.split('_')\n",
    "    tpr = float(s_list[4][:-3])\n",
    "    tnr = float(s_list[5][:-7])\n",
    "    df = pd.read_csv(f\"{results_folder}{s}\", names=[\"load\", \"avg_slowdown\", \"tmp1\", \"tmp2\"], sep=\" \")\n",
    "    df = df[[\"load\", \"avg_slowdown\"]]\n",
    "    df[\"tpr\"] = tpr\n",
    "    df[\"tnr\"] = tnr\n",
    "    df[\"fnr\"] = round(1.0 - df[\"tpr\"], 5)\n",
    "    df[\"fpr\"] = round(1.0 - df[\"tnr\"], 5)\n",
    "    results.append(df)\n",
    "\n",
    "results = pd.concat(results)\n",
    "load_synth = results['load'].values[-1]"
   ]
  },
  {
   "cell_type": "code",
   "execution_count": null,
   "id": "e9d70275",
   "metadata": {},
   "outputs": [],
   "source": [
    "nflows = \"1M\"\n",
    "trace = \"caida\"\n",
    "\n",
    "path_pfabric = f\"{baseline_folder}result_pfabric_{trace}_{nflows}.txt\"\n",
    "path_fifo = f\"{baseline_folder}result_fifo_{trace}_{nflows}.txt\"\n",
    "\n",
    "fct_pfabric = pd.read_csv(path_pfabric, names=[\"load\", \"avg_slowdown\", \"tmp1\", \"tmp2\"], sep=\" \")\n",
    "fct_pfabric = fct_pfabric[fct_pfabric[\"load\"] == load_synth][\"avg_slowdown\"].values[0]\n",
    "\n",
    "fct_fifo = pd.read_csv(path_fifo, names=[\"load\", \"avg_slowdown\", \"tmp1\", \"tmp2\"], sep=\" \")\n",
    "fct_fifo = fct_fifo[fct_fifo[\"load\"] == load_synth][\"avg_slowdown\"].values[0]"
   ]
  },
  {
   "cell_type": "code",
   "execution_count": null,
   "id": "3d0b9893",
   "metadata": {},
   "outputs": [],
   "source": [
    "dumbo_fct = pd.read_csv(baseline_folder + \"result_coda_\"+ trace + \"_\" + nflows + \".txt\", names=[\"load\", \"avg_slowdown\", \"tmp1\", \"tmp2\"], sep=\" \")\n",
    "dumbo_fct = dumbo_fct[dumbo_fct[\"load\"] == load_synth][\"avg_slowdown\"].values[0]\n",
    "dumbo_fnr = pd.read_csv(\"../../results/5_pk/tcp_udp/initial5min_pruning+feat_selection+quantization_0dryrun_caida/rates.txt\", names=[\"rate\", \"value\"])\n",
    "dumbo_fnr = dumbo_fnr[dumbo_fnr[\"rate\"] == \"FNR\"][\"value\"].values[0]"
   ]
  },
  {
   "cell_type": "code",
   "execution_count": null,
   "id": "f749f844",
   "metadata": {},
   "outputs": [],
   "source": [
    "fig, ax_elephs = plt.subplots(1, 1, figsize=(6, 4))\n",
    "\n",
    "ax2_elephs = ax_elephs.twiny()\n",
    "ax_elephs.set_xlabel(\"Elephants mispredictions\")\n",
    "ax_elephs.set_ylabel(\"Normalized FCT\")\n",
    "\n",
    "ax_elephs.plot(results.sort_values(\"fnr\")[\"fnr\"], results.sort_values(\"fnr\")[\"avg_slowdown\"], color=\"tab:blue\")\n",
    "l_synth = mlines.Line2D([], [], color=\"tab:blue\", marker='None', linestyle='-', label=f'hint-based (synth)')\n",
    "\n",
    "# baselines\n",
    "ax_elephs.hlines(y=fct_fifo, xmin=0, xmax=1, label=\"FIFO\", color=\"black\", ls=\"--\")\n",
    "ax_elephs.hlines(y=fct_pfabric, xmin=0, xmax=1, label=\"pFabric\", color=\"black\")\n",
    "\n",
    "# DUMBO\n",
    "ax_elephs.scatter(dumbo_fnr, dumbo_fct, marker=\"*\", color='black', s=120, zorder=2)\n",
    "l_coda = mlines.Line2D([], [], color='black', marker='*', linestyle='None', markersize=10, label=f'{coda_name}')\n",
    "\n",
    "# Mice mispred equivalent\n",
    "ax_elephs.set_xticks([0, 0.2, 0.4, 0.6, 0.8, 1.], [0.0, 0.2, 0.4, 0.6, 0.8, 1.])\n",
    "ax_elephs.set_yticks([1, 2, 3, 4, 5, 6, 7], [1, 2, 3, 4, 5, 6, 7])\n",
    "mice_tick_locations = ax_elephs.get_xticks()\n",
    "def tick_function(x_list, df):\n",
    "    ticks = []\n",
    "    for v in x_list:\n",
    "        mice_tick = df[df[\"fnr\"] == v][\"fpr\"].values[0]\n",
    "        ticks.append(round(mice_tick, 3))\n",
    "    return ticks\n",
    "ax2_elephs.set_xlim(ax_elephs.get_xlim())\n",
    "ax2_elephs.set_xticks(mice_tick_locations)\n",
    "ax2_elephs.set_xticklabels(tick_function(mice_tick_locations, results))\n",
    "ax2_elephs.set_xlabel(\"Mice mispredictions\")\n",
    "\n",
    "pyplot.gca().add_artist(\n",
    "    pyplot.legend(\n",
    "        handles=[l_synth,\n",
    "                 l_coda\n",
    "                 ], ncol=2, columnspacing=0.9, frameon=False,\n",
    "        loc='lower center', borderaxespad=0.2\n",
    "    )\n",
    ")\n",
    "\n",
    "ax_elephs.legend(\n",
    "    ncol=1, columnspacing=0.9, frameon=False, loc='upper left', title='Baselines', borderaxespad=1\n",
    ")\n",
    "\n",
    "ax_elephs.grid(alpha=0.5)\n",
    "ax_elephs.set_xlim([0, 1])\n",
    "ax_elephs.set_ylim([0, None])\n",
    "\n",
    "print(f\"{trace.upper()} - 20K Eleph Tr. - {nflows} Flows - Load {load_synth}\")\n",
    "plt.subplots_adjust(left=0.09, right=0.97, bottom=0.15, top=0.86)\n",
    "plt.savefig(f'./out/scheduling_synth.pdf', format='pdf', dpi=1200)\n",
    "plt.show()"
   ]
  },
  {
   "cell_type": "code",
   "execution_count": null,
   "id": "ed3a7c0ad5457b18",
   "metadata": {
    "collapsed": false
   },
   "outputs": [],
   "source": []
  }
 ],
 "metadata": {
  "kernelspec": {
   "display_name": "Python 3 (ipykernel)",
   "language": "python",
   "name": "python3"
  },
  "language_info": {
   "codemirror_mode": {
    "name": "ipython",
    "version": 3
   },
   "file_extension": ".py",
   "mimetype": "text/x-python",
   "name": "python",
   "nbconvert_exporter": "python",
   "pygments_lexer": "ipython3",
   "version": "3.9.18"
  }
 },
 "nbformat": 4,
 "nbformat_minor": 5
}
