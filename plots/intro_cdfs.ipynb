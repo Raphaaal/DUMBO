{
 "cells": [
  {
   "cell_type": "markdown",
   "id": "41ae1f71",
   "metadata": {},
   "source": [
    "Run with the following conda environment: `../../conda_envs/training_env`"
   ]
  },
  {
   "cell_type": "code",
   "execution_count": null,
   "id": "843585dd-658e-4d8a-84a7-b1371d52018a",
   "metadata": {},
   "outputs": [],
   "source": [
    "import pandas as pd\n",
    "import matplotlib.pyplot as plt\n",
    "import numpy as np\n",
    "import matplotlib.pylab as pylab\n",
    "import seaborn as sns\n",
    "import matplotlib\n",
    "from matplotlib.lines import Line2D"
   ]
  },
  {
   "cell_type": "code",
   "execution_count": null,
   "id": "b8228956-09d0-4d19-ad10-01348adff515",
   "metadata": {},
   "outputs": [],
   "source": [
    "data_folder = \"../data/\"\n",
    "path_caida = f\"{data_folder}/caida/preprocessed_5-20pk_tcpudpicmp/135000_all_proto.csv\"\n",
    "path_mawi = f\"{data_folder}/mawi/preprocessed_5-20pk_tcpudpicmp/1920_all_proto.csv\"\n",
    "path_uni = f\"{data_folder}/uni/preprocessed_5-20pk_tcpudpicmp/0_all_proto.csv\" # UNI trace with the most flows"
   ]
  },
  {
   "cell_type": "code",
   "execution_count": null,
   "id": "25af6ae4-147e-47ef-ac54-89c04e7463f0",
   "metadata": {},
   "outputs": [],
   "source": [
    "params = {\n",
    "    'legend.fontsize': 14,\n",
    "    'legend.title_fontsize': 16,\n",
    "    'axes.labelsize': 20,\n",
    "    'axes.titlesize': 22,\n",
    "    'xtick.labelsize': 18,\n",
    "    'ytick.labelsize': 18,\n",
    "    'figure.titlesize': 25,\n",
    "}\n",
    "plt.rc('font', size=16)\n",
    "plt.rc('pdf', fonttype=42)\n",
    "pylab.rcParams.update(params)"
   ]
  },
  {
   "cell_type": "code",
   "execution_count": null,
   "id": "e5dd949e-71c5-47eb-8ded-aa4852a719d2",
   "metadata": {},
   "outputs": [],
   "source": [
    "all_data = {}\n",
    "all_sizes = {}\n",
    "all_cutoffs = {}\n",
    "\n",
    "for path in [path_uni, path_caida, path_mawi, ]:\n",
    "    data = pd.read_csv(path, header=0)\n",
    "    all_data[path] = data\n",
    "    cutoff = np.percentile(data[\"flow_size\"], 99)\n",
    "    all_cutoffs[path] = cutoff\n",
    "    sizes = data[\"flow_size\"]\n",
    "    all_sizes[path] = sizes"
   ]
  },
  {
   "cell_type": "code",
   "execution_count": null,
   "id": "50bc092c",
   "metadata": {},
   "outputs": [],
   "source": [
    "all_sizes_cdfs = {}\n",
    "\n",
    "for path, sizes in all_sizes.items():\n",
    "    sizes_cdf = pd.DataFrame(data={\n",
    "            \"flow_size\": sizes.value_counts().index,\n",
    "            \"n_flows\": sizes.value_counts().values,\n",
    "        })\n",
    "    sizes_cdf = sizes_cdf.sort_values(by=\"flow_size\", ascending=True)\n",
    "    sizes_cdf[\"cumsum\"] = sizes_cdf[\"n_flows\"].cumsum()\n",
    "    sizes_cdf[\"cdf\"] = sizes_cdf[\"cumsum\"]  / sizes_cdf[\"n_flows\"].sum()\n",
    "    sizes_cdf[\"tmp\"] = 1 # For CDF extraction to .txt file fed to the scheduling simulator\n",
    "    all_sizes_cdfs[path] = sizes_cdf"
   ]
  },
  {
   "cell_type": "code",
   "execution_count": null,
   "id": "dd90f6c8",
   "metadata": {},
   "outputs": [],
   "source": [
    "all_traffic_shares = {}\n",
    "\n",
    "for path, sizes in all_sizes.items():\n",
    "    traffic_share = pd.DataFrame(data={\n",
    "        \"flow_size\": sizes.value_counts().index,\n",
    "        \"n_flows\": sizes.value_counts().values,\n",
    "    })\n",
    "    traffic_share[\"total_size\"] = traffic_share[\"flow_size\"] * traffic_share[\"n_flows\"]  \n",
    "    traffic_share[\"share\"] = traffic_share[\"total_size\"] / traffic_share[\"total_size\"].sum()\n",
    "    cdf = traffic_share.sort_values(by=\"flow_size\", ascending=True)\n",
    "    cdf[\"cum_share\"] = cdf[\"share\"].cumsum()\n",
    "    all_traffic_shares[path] = cdf"
   ]
  },
  {
   "cell_type": "code",
   "execution_count": null,
   "id": "217a6942",
   "metadata": {},
   "outputs": [],
   "source": [
    "for path, data in all_data.items():\n",
    "    print(f\"{path.split('/')[2]}: {data.shape[0]} flows\")"
   ]
  },
  {
   "cell_type": "code",
   "execution_count": null,
   "id": "cc8373d7",
   "metadata": {},
   "outputs": [],
   "source": [
    "palette = {\n",
    "    \"caida\": \"tab:blue\",\n",
    "    \"mawi\": \"tab:orange\",\n",
    "    \"uni\": \"tab:red\",\n",
    "    \"raphael\": \"tab:red\",\n",
    "}\n",
    "\n",
    "text_pos = {\n",
    "    \"caida\": (5, 0.2),\n",
    "    \"mawi\": (10, 0.42),\n",
    "    \"uni\": (1000, 0.2),\n",
    "}\n",
    "\n",
    "fig, ax = plt.subplots(nrows=1, ncols=1, figsize=(6, 4))\n",
    "\n",
    "for i, ((path, data), cutoff, cdf) in enumerate(zip(all_data.items(), all_cutoffs.values(), all_traffic_shares.values())):\n",
    "    \n",
    "    trace_name = path.split(\"/\")[2]\n",
    "    ax.annotate(f\"{trace_name.upper()}\", xy=text_pos[trace_name], fontsize=16, color=palette[trace_name])\n",
    "    sns.ecdfplot(ax=ax, data=data, x=\"flow_size\", log_scale=True, label=f\"flows\", c=palette[trace_name], lw=2)\n",
    "    cutoff = int(cutoff)\n",
    "    ax.vlines(\n",
    "        x=cutoff, ymax=1, ymin=cdf[cdf[\"flow_size\"] >= int(cutoff)][\"cum_share\"].values[0],\n",
    "        color=palette[trace_name], ls=\"dotted\", lw=1, label=f\"elephants\", zorder=-1\n",
    "    )\n",
    "\n",
    "    ax.plot(\n",
    "        cdf[\"flow_size\"],\n",
    "        np.cumsum(cdf[\"share\"]), \n",
    "        color=palette[trace_name],\n",
    "        label=f\"traffic share\", ls=\"--\", lw=2,\n",
    "    )\n",
    "\n",
    "ax.set_xlabel(\"Flow size [# packets]\")\n",
    "ax.set_ylabel(\"CDF\")\n",
    "ax.set_xticks([1, 10, 100, 1000, 10000, 100000, 1000000])\n",
    "\n",
    "handles, labels = ax.get_legend_handles_labels()\n",
    "new_handles = []\n",
    "new_labels = []\n",
    "for h, lbl in zip(handles, labels):\n",
    "    l = Line2D([], [])\n",
    "    l.set_color(\"black\")\n",
    "    if \"traffic share\" in lbl:\n",
    "        l.set_linestyle(\"--\")\n",
    "    if \"elephant\" in lbl:\n",
    "        l.set_linestyle(\"dotted\")\n",
    "    new_labels.append(lbl)\n",
    "    new_handles.append(l)\n",
    "order = [0, 2, 1]\n",
    "legend1 = ax.legend(\n",
    "    [new_handles[idx] for idx in order], \n",
    "    [new_labels[idx] for idx in order], \n",
    "    loc=\"lower right\", \n",
    "    labelspacing=0.25, columnspacing=0.5, ncol=1, framealpha=0., handlelength=1.5, markerfirst=False\n",
    ")\n",
    "fig.add_artist(legend1)\n",
    "plt.tight_layout()\n",
    "plt.savefig(f'./models/out/01_sizes_distributions.pdf', format='pdf', dpi=1200)\n",
    "plt.show()"
   ]
  }
 ],
 "metadata": {
  "kernelspec": {
   "display_name": "Python 3 (ipykernel)",
   "language": "python",
   "name": "python3"
  },
  "language_info": {
   "codemirror_mode": {
    "name": "ipython",
    "version": 3
   },
   "file_extension": ".py",
   "mimetype": "text/x-python",
   "name": "python",
   "nbconvert_exporter": "python",
   "pygments_lexer": "ipython3",
   "version": "3.9.18"
  }
 },
 "nbformat": 4,
 "nbformat_minor": 5
}
