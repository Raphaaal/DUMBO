{
 "cells": [
  {
   "cell_type": "markdown",
   "id": "bffa2459",
   "metadata": {},
   "source": [
    "Run with the following conda environment: `../../conda_envs/training_env`"
   ]
  },
  {
   "cell_type": "code",
   "execution_count": null,
   "id": "843585dd-658e-4d8a-84a7-b1371d52018a",
   "metadata": {},
   "outputs": [],
   "source": [
    "import seaborn as sns\n",
    "import pandas as pd\n",
    "import matplotlib.pyplot as plt\n",
    "import numpy as np\n",
    "import matplotlib.pylab as pylab\n",
    "from matplotlib import ticker as mticker"
   ]
  },
  {
   "cell_type": "code",
   "execution_count": null,
   "id": "a8ebde48",
   "metadata": {},
   "outputs": [],
   "source": [
    "data_folder = \"../data/\"\n",
    "path_caida = f\"{data_folder}/caida/preprocessed_5-20pk_tcpudpicmp/135000_\"\n",
    "path_mawi = f\"{data_folder}/mawi/preprocessed_5-20pk_tcpudpicmp/1920_\"\n",
    "path_uni = f\"{data_folder}/uni/preprocessed_5-20pk_tcpudpicmp/151_\""
   ]
  },
  {
   "cell_type": "code",
   "execution_count": null,
   "id": "25af6ae4-147e-47ef-ac54-89c04e7463f0",
   "metadata": {},
   "outputs": [],
   "source": [
    "params = {\n",
    "    'legend.fontsize': 14,\n",
    "    'legend.title_fontsize': 16,\n",
    "    'axes.labelsize': 20,\n",
    "    'axes.titlesize': 22,\n",
    "    'xtick.labelsize': 18,\n",
    "    'ytick.labelsize': 18,\n",
    "    'figure.titlesize': 25,\n",
    "}\n",
    "plt.rc('font', size=16)\n",
    "plt.rc('pdf', fonttype=42)\n",
    "pylab.rcParams.update(params)"
   ]
  },
  {
   "cell_type": "code",
   "execution_count": null,
   "id": "b8228956-09d0-4d19-ad10-01348adff515",
   "metadata": {},
   "outputs": [],
   "source": [
    "features = [\n",
    "    \"pk_size_mean_6\",\n",
    "    \"pk_size_std_6\",\n",
    "    \"iat_mean_5\",\n",
    "    \"iat_std_5\",\n",
    "]\n",
    "n_pk = 5\n",
    "protocols = [\"tcp\", \"udp\", \"icmp\"]"
   ]
  },
  {
   "cell_type": "code",
   "execution_count": null,
   "id": "e5dd949e-71c5-47eb-8ded-aa4852a719d2",
   "metadata": {},
   "outputs": [],
   "source": [
    "data_uni = []\n",
    "data_mawi = []\n",
    "data_caida = []\n",
    "for proto in protocols:\n",
    "    csv_uni = pd.read_csv(f\"{path_uni}{proto}.csv\", header=0, engine=\"pyarrow\")\n",
    "    csv_uni[\"protocol\"] = proto\n",
    "    data_uni.append(csv_uni)\n",
    "\n",
    "    csv_caida = pd.read_csv(f\"{path_caida}{proto}.csv\", header=0, engine=\"pyarrow\")\n",
    "    csv_caida[\"protocol\"] = proto\n",
    "    data_caida.append(csv_caida)\n",
    "\n",
    "    csv_mawi = pd.read_csv(f\"{path_mawi}{proto}.csv\", header=0, engine=\"pyarrow\",  parse_dates=['first_ts'])\n",
    "    csv_mawi[\"protocol\"] = proto\n",
    "    data_mawi.append(csv_mawi)\n",
    "\n",
    "data_mawi = pd.concat(data_mawi)\n",
    "data_caida = pd.concat(data_caida)\n",
    "data_uni = pd.concat(data_uni)\n",
    "data_mawi[\"trace\"] = \"MAWI\"\n",
    "data_caida[\"trace\"] = \"CAIDA\"\n",
    "data_uni[\"trace\"] = \"UNI\"\n",
    "df = pd.concat([data_caida, data_mawi, data_uni])\n",
    "df.replace([np.inf, -np.inf], np.nan, inplace=True)\n",
    "df = df.reset_index()"
   ]
  },
  {
   "cell_type": "code",
   "execution_count": null,
   "id": "3d4453d5",
   "metadata": {},
   "outputs": [],
   "source": [
    "df_untouched = df.copy(deep=True)"
   ]
  },
  {
   "cell_type": "code",
   "execution_count": null,
   "id": "f5d570f4",
   "metadata": {},
   "outputs": [],
   "source": [
    "df.groupby([\"trace\", \"protocol\"])[\"first_ts\"].count()"
   ]
  },
  {
   "cell_type": "code",
   "execution_count": null,
   "id": "ca57ac16",
   "metadata": {},
   "outputs": [],
   "source": [
    "df[df[\"flow_size\"] >= n_pk].groupby([\"trace\", \"protocol\"])[\"first_ts\"].count()"
   ]
  },
  {
   "cell_type": "code",
   "execution_count": null,
   "id": "31237105",
   "metadata": {},
   "outputs": [],
   "source": [
    "df[df[\"trace\"] == \"CAIDA\"][\"flow_size\"].sort_values()[-10:]"
   ]
  },
  {
   "cell_type": "code",
   "execution_count": null,
   "id": "bf84150b",
   "metadata": {},
   "outputs": [],
   "source": [
    "df[df[\"trace\"] == \"MAWI\"][\"flow_size\"].sort_values()[-10:]"
   ]
  },
  {
   "attachments": {},
   "cell_type": "markdown",
   "id": "15082592",
   "metadata": {},
   "source": [
    "Protocols repartition"
   ]
  },
  {
   "cell_type": "code",
   "execution_count": null,
   "id": "0ffc32a2",
   "metadata": {},
   "outputs": [],
   "source": [
    "mawi_cutoff_all_proto = np.percentile(df[df[\"trace\"] == \"MAWI\"][\"flow_size\"], q=99)\n",
    "caida_cutoff_all_proto = np.percentile(df[df[\"trace\"] == \"CAIDA\"][\"flow_size\"], q=99)\n",
    "uni_cutoff_all_proto = np.percentile(df[df[\"trace\"] == \"UNI\"][\"flow_size\"], q=99)\n",
    "\n",
    "mawi_cutoff_tcp_udp = np.percentile(df[(df[\"trace\"] == \"MAWI\") & (df[\"protocol\"].isin([\"tcp\", \"udp\"]))][\"flow_size\"], q=99)\n",
    "caida_cutoff_tcp_udp = np.percentile(df[(df[\"trace\"] == \"CAIDA\") & (df[\"protocol\"].isin([\"tcp\", \"udp\"]))][\"flow_size\"], q=99)\n",
    "uni_cutoff_tcp_udp = np.percentile(df[(df[\"trace\"] == \"UNI\") & (df[\"protocol\"].isin([\"tcp\", \"udp\"]))][\"flow_size\"], q=99)\n",
    "\n",
    "mawi_cutoff_tcp = np.percentile(df[(df[\"trace\"] == \"MAWI\") & (df[\"protocol\"] == \"tcp\")][\"flow_size\"], q=99)\n",
    "caida_cutoff_tcp = np.percentile(df[(df[\"trace\"] == \"CAIDA\") & (df[\"protocol\"] == \"tcp\")][\"flow_size\"], q=99)\n",
    "uni_cutoff_tcp = np.percentile(df[(df[\"trace\"] == \"UNI\") & (df[\"protocol\"] == \"tcp\")][\"flow_size\"], q=99)\n",
    "\n",
    "mawi_cutoff_udp = np.percentile(df[(df[\"trace\"] == \"MAWI\") & (df[\"protocol\"] == \"udp\")][\"flow_size\"], q=99)\n",
    "caida_cutoff_udp = np.percentile(df[(df[\"trace\"] == \"CAIDA\") & (df[\"protocol\"] == \"udp\")][\"flow_size\"], q=99)\n",
    "uni_cutoff_udp = np.percentile(df[(df[\"trace\"] == \"UNI\") & (df[\"protocol\"] == \"udp\")][\"flow_size\"], q=99)\n",
    "\n",
    "mawi_cutoff_icmp = np.percentile(df[(df[\"trace\"] == \"MAWI\") & (df[\"protocol\"] == \"icmp\")][\"flow_size\"], q=99)\n",
    "caida_cutoff_icmp = np.percentile(df[(df[\"trace\"] == \"CAIDA\") & (df[\"protocol\"] == \"icmp\")][\"flow_size\"], q=99)\n",
    "uni_cutoff_icmp = np.percentile(df[(df[\"trace\"] == \"UNI\") & (df[\"protocol\"] == \"icmp\")][\"flow_size\"], q=99)"
   ]
  },
  {
   "cell_type": "code",
   "execution_count": null,
   "id": "88fa6c1a",
   "metadata": {},
   "outputs": [],
   "source": [
    "mawi_5pkq_all_proto = (df[df[\"trace\"] == \"MAWI\"][\"flow_size\"].to_numpy() < 5).mean()\n",
    "caida_5pkq_all_proto = (df[df[\"trace\"] == \"CAIDA\"][\"flow_size\"].to_numpy() < 5).mean()\n",
    "uni_5pkq_all_proto = (df[df[\"trace\"] == \"UNI\"][\"flow_size\"].to_numpy() < 5).mean()\n",
    "\n",
    "mawi_5pkq_tcp_udp = (df[(df[\"trace\"] == \"MAWI\") & (df[\"protocol\"].isin([\"tcp\", \"udp\"]))][\"flow_size\"].to_numpy() < 5).mean()\n",
    "caida_5pkq_tcp_udp = (df[(df[\"trace\"] == \"CAIDA\") & (df[\"protocol\"].isin([\"tcp\", \"udp\"]))][\"flow_size\"].to_numpy() < 5).mean()\n",
    "uni_5pkq_tcp_udp = (df[(df[\"trace\"] == \"UNI\") & (df[\"protocol\"].isin([\"tcp\", \"udp\"]))][\"flow_size\"].to_numpy() < 5).mean()\n",
    "\n",
    "mawi_5pkq_tcp = (df[(df[\"trace\"] == \"MAWI\") & (df[\"protocol\"] == \"tcp\")][\"flow_size\"].to_numpy() < 5).mean()\n",
    "caida_5pkq_tcp = (df[(df[\"trace\"] == \"CAIDA\") & (df[\"protocol\"] == \"tcp\")][\"flow_size\"].to_numpy() < 5).mean()\n",
    "uni_5pkq_tcp = (df[(df[\"trace\"] == \"UNI\") & (df[\"protocol\"] == \"tcp\")][\"flow_size\"].to_numpy() < 5).mean()\n",
    "\n",
    "mawi_5pkq_udp = (df[(df[\"trace\"] == \"MAWI\") & (df[\"protocol\"] == \"udp\")][\"flow_size\"].to_numpy() < 5).mean()\n",
    "caida_5pkq_udp = (df[(df[\"trace\"] == \"CAIDA\") & (df[\"protocol\"] == \"udp\")][\"flow_size\"].to_numpy() < 5).mean()\n",
    "uni_5pkq_udp = (df[(df[\"trace\"] == \"UNI\") & (df[\"protocol\"] == \"udp\")][\"flow_size\"].to_numpy() < 5).mean()\n",
    "\n",
    "mawi_5pkq_icmp = (df[(df[\"trace\"] == \"MAWI\") & (df[\"protocol\"] == \"icmp\")][\"flow_size\"].to_numpy() < 5).mean()\n",
    "caida_5pkq_icmp = (df[(df[\"trace\"] == \"CAIDA\") & (df[\"protocol\"] == \"icmp\")][\"flow_size\"].to_numpy() < 5).mean()\n",
    "uni_5pkq_icmp = (df[(df[\"trace\"] == \"UNI\") & (df[\"protocol\"] == \"icmp\")][\"flow_size\"].to_numpy() < 5).mean()"
   ]
  },
  {
   "attachments": {},
   "cell_type": "markdown",
   "id": "6d0bd70c",
   "metadata": {},
   "source": [
    "Flow size distribution"
   ]
  },
  {
   "cell_type": "code",
   "execution_count": null,
   "id": "95b278e3",
   "metadata": {},
   "outputs": [],
   "source": [
    "def plot_cdf(df, protocols, cutoff_mawi, cutoff_caida, cutoff_uni, pk_mawi, pk_caida, pk_uni, save_path):\n",
    "\n",
    "    g = sns.FacetGrid(df[df[\"protocol\"].isin(protocols)], row=\"trace\", hue=\"trace\")\n",
    "    g.fig.set_size_inches(6,5)\n",
    "    for i, ax in enumerate(g.axes):\n",
    "        print(ax[0].get_title())\n",
    "        if \"CAIDA\" in ax[0].get_title():\n",
    "            axes_caida = g.axes[i]\n",
    "        elif \"MAWI\" in ax[0].get_title():\n",
    "            axes_mawi = g.axes[i]\n",
    "        elif \"UNI\" in ax[0].get_title():\n",
    "            axes_uni = g.axes[i]\n",
    "\n",
    "    g.map(sns.ecdfplot, \"flow_size\", log_scale=True, legend=\"brief\", stat=\"percent\")\n",
    "\n",
    "    axes_mawi[0].vlines(x=cutoff_mawi, ls='dotted', ymin=0, ymax=99, color=\"black\")\n",
    "    axes_mawi[0].hlines(y=99, ls='dotted', xmin=1, xmax=cutoff_mawi, color=\"black\")\n",
    "    axes_mawi[0].annotate(f\"Top 1%: {int(round(cutoff_mawi, 0))} pk\", xy=(cutoff_mawi, 50), xytext=(5, 0), textcoords=\"offset points\", size=16)\n",
    "    if protocols != [\"icmp\"]:\n",
    "        axes_mawi[0].vlines(x=5, ls='dotted', ymin=0, ymax=pk_mawi*100, color=\"black\")\n",
    "        axes_mawi[0].hlines(y=pk_mawi*100, ls='dotted', xmin=1, xmax=5, color=\"black\")\n",
    "        axes_mawi[0].annotate(f\"5pk\", xy=(5, 10), xytext=(5, 0), textcoords=\"offset points\", size=16)\n",
    "    axes_mawi[0].set_ylabel(\"CDF [%]\")\n",
    "    axes_mawi[0].set_xlabel(f'Flow size ({\"+\".join([p.upper() for p in protocols])})')\n",
    "    axes_mawi[0].set_title(\"MAWI\")\n",
    "\n",
    "    try:\n",
    "        axes_uni[0].vlines(x=cutoff_uni, ls='dotted', ymin=0, ymax=99, color=\"black\")\n",
    "        axes_uni[0].hlines(y=99, ls='dotted', xmin=1, xmax=cutoff_uni, color=\"black\")\n",
    "        axes_uni[0].annotate(f\"Top 1%: {int(round(cutoff_uni, 0))} pk\", xy=(cutoff_uni, 50), xytext=(5, 0), textcoords=\"offset points\", size=16)\n",
    "        if protocols != [\"icmp\"]:\n",
    "            axes_uni[0].vlines(x=5, ls='dotted', ymin=0, ymax=pk_uni*100, color=\"black\")\n",
    "            axes_uni[0].hlines(y=pk_uni*100, ls='dotted', xmin=1, xmax=5, color=\"black\")\n",
    "            axes_uni[0].annotate(f\"5pk\", xy=(5, 10), xytext=(5, 0), textcoords=\"offset points\", size=16)\n",
    "        axes_uni[0].set_ylabel(\"CDF [%]\")\n",
    "        axes_uni[0].set_xlabel(f'Flow size ({\"+\".join([p.upper() for p in protocols])})')\n",
    "        axes_uni[0].set_title(\"UNI\")\n",
    "    except UnboundLocalError:\n",
    "        print(\"No UNI\")\n",
    "\n",
    "    axes_caida[0].vlines(x=cutoff_caida, ls='dotted', ymin=0, ymax=99, color=\"black\")\n",
    "    axes_caida[0].hlines(y=99, ls='dotted', xmin=1, xmax=cutoff_caida, color=\"black\")\n",
    "    axes_caida[0].annotate(f\"Top 1%: {int(round(cutoff_caida, 0))} pk\", xy=(cutoff_caida, 50), xytext=(5, 0), textcoords=\"offset points\", size=16)\n",
    "    axes_caida[0].vlines(x=5, ls='dotted', ymin=0, ymax=pk_caida*100, color=\"black\")\n",
    "    axes_caida[0].hlines(y=pk_caida*100, ls='dotted', xmin=1, xmax=5, color=\"black\")\n",
    "    axes_caida[0].annotate(f\"5pk\", xy=(5, 10), xytext=(5, 0), textcoords=\"offset points\", size=16)\n",
    "    axes_caida[0].set_ylabel(\"CDF [%]\")\n",
    "    axes_caida[0].set_xlabel(f\"Flow size ({'+'.join([p.upper() for p in protocols])})\")\n",
    "    axes_caida[0].set_title(\"CAIDA\")\n",
    "\n",
    "    plt.locator_params(axis='y', nbins=3)\n",
    "    plt.tight_layout()\n",
    "    plt.savefig(f'{save_path}', format='pdf', dpi=1200)\n",
    "    plt.show()"
   ]
  },
  {
   "cell_type": "code",
   "execution_count": null,
   "id": "a8c38b9e",
   "metadata": {},
   "outputs": [],
   "source": [
    "plot_cdf(\n",
    "    df=df, \n",
    "    protocols=[\"tcp\"], \n",
    "    cutoff_mawi=mawi_cutoff_tcp, \n",
    "    cutoff_caida=caida_cutoff_tcp, \n",
    "    cutoff_uni=uni_cutoff_tcp, \n",
    "    pk_mawi=mawi_5pkq_tcp, \n",
    "    pk_caida=caida_5pkq_tcp, \n",
    "    pk_uni=uni_5pkq_tcp, \n",
    "    save_path=\"./models/out/12Aapp_TCP-flow-sizes_caida_mawi.pdf\"\n",
    ")"
   ]
  },
  {
   "cell_type": "code",
   "execution_count": null,
   "id": "832719e3",
   "metadata": {},
   "outputs": [],
   "source": [
    "plot_cdf(\n",
    "    df=df, \n",
    "    protocols=[\"udp\"], \n",
    "    cutoff_mawi=mawi_cutoff_udp, \n",
    "    cutoff_caida=caida_cutoff_udp, \n",
    "    cutoff_uni=uni_cutoff_udp, \n",
    "    pk_mawi=mawi_5pkq_udp, \n",
    "    pk_caida=caida_5pkq_udp, \n",
    "    pk_uni=uni_5pkq_udp, \n",
    "    save_path=\"./models/out/12Bapp_UDP-flow-sizes_caida_mawi.pdf\"\n",
    ")"
   ]
  },
  {
   "cell_type": "code",
   "execution_count": null,
   "id": "099f0066",
   "metadata": {},
   "outputs": [],
   "source": [
    "plot_cdf(\n",
    "    df=df, \n",
    "    protocols=[\"icmp\"], \n",
    "    cutoff_mawi=mawi_cutoff_icmp,\n",
    "    cutoff_caida=caida_cutoff_icmp, \n",
    "    cutoff_uni=uni_cutoff_icmp, \n",
    "    pk_mawi=mawi_5pkq_icmp, \n",
    "    pk_caida=caida_5pkq_icmp, \n",
    "    pk_uni=uni_5pkq_icmp, \n",
    "    save_path=\"./models/out/12Capp_ICMP-flow-sizes_caida_mawi.pdf\"\n",
    ")"
   ]
  },
  {
   "cell_type": "code",
   "execution_count": null,
   "id": "4ed2b03b",
   "metadata": {},
   "outputs": [],
   "source": [
    "g = sns.FacetGrid(df, row=\"trace\", hue=\"protocol\", sharey=False)\n",
    "g.fig.set_size_inches(6, 5)\n",
    "g.map(sns.histplot, \"protocol\", palette=\"viridis\")\n",
    "axes = g.fig.axes\n",
    "for i, ax in enumerate(axes):\n",
    "    if \"MAWI\" in ax.get_title():\n",
    "        ax.set_title(\"MAWI\")\n",
    "    elif \"CAIDA\" in ax.get_title():\n",
    "        ax.set_title(\"CAIDA\")\n",
    "    elif \"UNI\" in ax.get_title():\n",
    "        ax.set_title(\"UNI\")\n",
    "    ax.set_ylabel(\"# flows\")\n",
    "    if i == len(axes) - 1:\n",
    "        ax.set_xticklabels([p.get_text().upper() for p in ax.get_xticklabels()])\n",
    "    \n",
    "axes[0].set_yticks([500_000, 1_000_000])\n",
    "axes[1].set_yticks([500_000, 1_000_000])\n",
    "axes[2].set_yticks([2000, 4000])\n",
    "axes[2].set_xlabel(\"Protocol\")\n",
    "plt.locator_params(axis='y', nbins=3)\n",
    "plt.tight_layout()\n",
    "plt.savefig(f'./models/out/13Aapp_protocols-count_caida_mawi.pdf', format='pdf', dpi=1200)\n",
    "plt.show()"
   ]
  },
  {
   "cell_type": "code",
   "execution_count": null,
   "id": "a2a526e6",
   "metadata": {},
   "outputs": [],
   "source": [
    "plot_cdf(\n",
    "    df=df, \n",
    "    protocols=[\"tcp\", \"udp\"], \n",
    "    cutoff_mawi=mawi_cutoff_tcp_udp, \n",
    "    cutoff_caida=caida_cutoff_tcp_udp, \n",
    "    cutoff_uni=uni_cutoff_tcp_udp, \n",
    "    pk_mawi=mawi_5pkq_tcp_udp, \n",
    "    pk_caida=caida_5pkq_tcp_udp, \n",
    "    pk_uni=uni_5pkq_tcp_udp, \n",
    "    save_path='./models/out/13Bapp_TCP+UDP-flow-sizes_caida_mawi.pdf'\n",
    ")"
   ]
  },
  {
   "cell_type": "code",
   "execution_count": null,
   "id": "8dc4d3bb",
   "metadata": {},
   "outputs": [],
   "source": [
    "plot_cdf(\n",
    "    df=df, \n",
    "    protocols=[\"tcp\", \"udp\", \"icmp\"], \n",
    "    cutoff_mawi=mawi_cutoff_all_proto, \n",
    "    cutoff_caida=caida_cutoff_all_proto, \n",
    "    cutoff_uni=uni_cutoff_all_proto, \n",
    "    pk_mawi=mawi_5pkq_all_proto, \n",
    "    pk_caida=caida_5pkq_all_proto, \n",
    "    pk_uni=uni_5pkq_all_proto, \n",
    "    save_path='./models/out/13Capp_TCP+UDP+ICMP-flow-sizes_caida_mawi.pdf'\n",
    ")"
   ]
  }
 ],
 "metadata": {
  "kernelspec": {
   "display_name": "Python 3 (ipykernel)",
   "language": "python",
   "name": "python3"
  },
  "language_info": {
   "codemirror_mode": {
    "name": "ipython",
    "version": 3
   },
   "file_extension": ".py",
   "mimetype": "text/x-python",
   "name": "python",
   "nbconvert_exporter": "python",
   "pygments_lexer": "ipython3",
   "version": "3.9.18"
  }
 },
 "nbformat": 4,
 "nbformat_minor": 5
}
